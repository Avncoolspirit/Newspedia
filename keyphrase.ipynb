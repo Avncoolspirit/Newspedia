{
 "cells": [
  {
   "cell_type": "code",
   "execution_count": 1,
   "metadata": {},
   "outputs": [],
   "source": [
    "def warn(*args, **kwargs):\n",
    "    pass\n",
    "import warnings\n",
    "warnings.warn = warn"
   ]
  },
  {
   "cell_type": "code",
   "execution_count": 2,
   "metadata": {},
   "outputs": [],
   "source": [
    "import pke\n",
    "import string\n",
    "from nltk.corpus import stopwords\n",
    "\n",
    "from googlesearch import search\n",
    "import requests\n",
    "import textdistance"
   ]
  },
  {
   "cell_type": "code",
   "execution_count": 3,
   "metadata": {},
   "outputs": [
    {
     "name": "stdout",
     "output_type": "stream",
     "text": [
      "mycelium\n",
      "material\n",
      "biotech startup ecovative\n",
      "company\n",
      "natural alternative\n"
     ]
    }
   ],
   "source": [
    "extractor = pke.unsupervised.TopicRank()\n",
    "\n",
    "# TODO: Process closed-caption stream and extract keywords for every 5 sentences\n",
    "extractor.load_document(input='mushroom.txt')\n",
    "\n",
    "pos = {'NOUN', 'PROPN', 'ADJ'}\n",
    "stoplist = list(string.punctuation)\n",
    "stoplist += ['-lrb-', '-rrb-', '-lcb-', '-rcb-', '-lsb-', '-rsb-']\n",
    "stoplist += stopwords.words('english')\n",
    "extractor.candidate_selection(pos=pos, stoplist=stoplist)\n",
    "\n",
    "extractor.candidate_weighting(threshold=0.74, method='average')\n",
    "\n",
    "keyphrases = extractor.get_n_best(n=5, redundancy_removal=True)\n",
    "keyphrases = [keyphrase for (keyphrase, weight) in keyphrases]\n",
    "for keyphrase in keyphrases:\n",
    "    print(keyphrase)"
   ]
  },
  {
   "cell_type": "code",
   "execution_count": 4,
   "metadata": {},
   "outputs": [],
   "source": [
    "wiki_query = ' '.join(keyphrases + ['wikipedia'])\n",
    "\n",
    "for result in search(wiki_query, tld='com', lang='en', num=10, stop=10, pause=2):\n",
    "    if 'wikipedia.org' in result:\n",
    "        title = result.split('/')[-1]\n",
    "        wiki_request = 'https://en.wikipedia.org/w/api.php?action=opensearch&search=' + title + '&limit=1&namespace=0&format=json'\n",
    "        wiki = requests.get(wiki_request, timeout=(5, 20))\n",
    "        wiki_card = wiki.json()\n",
    "        break"
   ]
  },
  {
   "cell_type": "code",
   "execution_count": 5,
   "metadata": {},
   "outputs": [],
   "source": [
    "relevant_articles = []\n",
    "news_query = '%20'.join(keyphrases).replace(' ', '%20')\n",
    "while len(relevant_articles) < 8:\n",
    "    news_request = 'https://newsapi.org/v2/everything?q=' + news_query + '&sortBy=relevancy&pageSize=10&apiKey=f086208033f04214bd283cc403681fc1'\n",
    "    news = requests.get(news_request, timeout=(5, 20))\n",
    "    news_list = news.json()['articles']\n",
    "    for article in news_list:\n",
    "        title = article['title']\n",
    "        url = article['url']\n",
    "        date = article['publishedAt']\n",
    "        is_duplicate = False\n",
    "        for t, _, _ in relevant_articles:\n",
    "            if textdistance.levenshtein.normalized_distance(title, t) < 0.5:\n",
    "                is_duplicate = True\n",
    "                break\n",
    "        if not is_duplicate:\n",
    "            relevant_articles.append((title, url, date))\n",
    "            if len(relevant_articles) == 8:\n",
    "                break\n",
    "    news_query = news_query.replace('%20' + news_query.split('%20')[-1], '')"
   ]
  },
  {
   "cell_type": "code",
   "execution_count": 6,
   "metadata": {},
   "outputs": [
    {
     "name": "stdout",
     "output_type": "stream",
     "text": [
      "Wiki card:\n",
      "Title: Ecovative_Design\n",
      "Summary: Ecovative Design LLC is a biomaterials company headquartered in Green Island, New York that provides sustainable alternatives to plastics and polystyrene foams for packaging, building materials and other applications by using mushroom technology.\n",
      "Url: https://en.wikipedia.org/wiki/Ecovative_Design\n",
      "\n",
      "Relevant news articles:\n",
      "1\n",
      "Title: This Company Is Using Mushrooms To Reduce Plastic Waste\n",
      "Url: https://science.slashdot.org/story/19/11/17/2248250/this-company-is-using-mushrooms-to-reduce-plastic-waste\n",
      "Date:2019-11-17T22:50:00Z\n",
      "\n",
      "2\n",
      "Title: Mushrooms may help reduce plastic waste\n",
      "Url: https://www.koamnewsnow.com/news/national-news/mushrooms-may-help-reduce-plastic-waste/1142016711\n",
      "Date:2019-11-14T07:00:19Z\n",
      "\n",
      "3\n",
      "Title: The Weirdness Is Coming\n",
      "Url: http://nymag.com/intelligencer/2019/11/2029-predictions-based-on-2019.html\n",
      "Date:2019-11-13T11:00:20Z\n",
      "\n",
      "4\n",
      "Title: Mushrooms, Cattail Reeds, and Agricultural Waste are Reimagined to Construct “The Growing Pavilion”\n",
      "Url: https://www.thisiscolossal.com/2019/10/the-growing-pavilion/\n",
      "Date:2019-10-31T16:50:10Z\n",
      "\n",
      "5\n",
      "Title: Bolt Threads' Leather Alternative Is Now Globally Scalable\n",
      "Url: https://www.businessoffashion.com/articles/news-analysis/dan-widmaier-voices-talk-our-planet-bolt-threads-sustainability-textiles\n",
      "Date:2019-11-22T10:04:02Z\n",
      "\n",
      "6\n",
      "Title: Indonesian Watchmaker Turns to Mushroom Leather\n",
      "Url: https://learningenglish.voanews.com/a/indonesian-watchmaker-turns-to-mushroom-leather/5148913.html\n",
      "Date:2019-11-09T22:57:52Z\n",
      "\n",
      "7\n",
      "Title: The Object is Absent is a \"less materialistic\" design exhibition for an overcrowded world\n",
      "Url: http://www.dezeen.com/2019/11/14/the-object-is-absent-design-exhibition/\n",
      "Date:2019-11-14T12:43:11Z\n",
      "\n",
      "8\n",
      "Title: 10 ways architecture could support a degrowth economy\n",
      "Url: http://www.dezeen.com/2019/11/19/degrowth-architecture-oslo-architecture-triennale-2019/\n",
      "Date:2019-11-19T11:39:36Z\n",
      "\n"
     ]
    }
   ],
   "source": [
    "print(\"Wiki card:\")\n",
    "print(\"Title: \" + wiki_card[0])\n",
    "print(\"Summary: \" + wiki_card[2][0])\n",
    "print(\"Url: \" + wiki_card[3][0])\n",
    "print()\n",
    "\n",
    "print(\"Relevant news articles:\")\n",
    "for i, (title, url, date) in enumerate(relevant_articles):\n",
    "    print(str(i + 1))\n",
    "    print(\"Title: \" + title)\n",
    "    print(\"Url: \" + url)\n",
    "    print(\"Date:\" + date)\n",
    "    print()"
   ]
  },
  {
   "cell_type": "code",
   "execution_count": null,
   "metadata": {},
   "outputs": [],
   "source": []
  }
 ],
 "metadata": {
  "kernelspec": {
   "display_name": "Python 3",
   "language": "python",
   "name": "python3"
  },
  "language_info": {
   "codemirror_mode": {
    "name": "ipython",
    "version": 3
   },
   "file_extension": ".py",
   "mimetype": "text/x-python",
   "name": "python",
   "nbconvert_exporter": "python",
   "pygments_lexer": "ipython3",
   "version": "3.6.5"
  }
 },
 "nbformat": 4,
 "nbformat_minor": 2
}
